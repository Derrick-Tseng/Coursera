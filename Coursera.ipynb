{
  "nbformat": 4,
  "nbformat_minor": 0,
  "metadata": {
    "colab": {
      "provenance": [],
      "authorship_tag": "ABX9TyPBQK2pAlb06x2lzB+rAfus",
      "include_colab_link": true
    },
    "kernelspec": {
      "name": "python3",
      "display_name": "Python 3"
    },
    "language_info": {
      "name": "python"
    }
  },
  "cells": [
    {
      "cell_type": "markdown",
      "metadata": {
        "id": "view-in-github",
        "colab_type": "text"
      },
      "source": [
        "<a href=\"https://colab.research.google.com/github/Derrick-Tseng/Coursera/blob/main/Coursera.ipynb\" target=\"_parent\"><img src=\"https://colab.research.google.com/assets/colab-badge.svg\" alt=\"Open In Colab\"/></a>"
      ]
    },
    {
      "cell_type": "markdown",
      "source": [
        "Coursera"
      ],
      "metadata": {
        "id": "TcUaHvrw9tyj"
      }
    },
    {
      "cell_type": "markdown",
      "source": [
        "This is the intro section"
      ],
      "metadata": {
        "id": "ZvdGCcWT9xgy"
      }
    },
    {
      "cell_type": "markdown",
      "source": [
        "Data science languages\n",
        "- Python\n",
        "- R\n",
        "- Scala"
      ],
      "metadata": {
        "id": "kV4TvTfp-Af6"
      }
    },
    {
      "cell_type": "markdown",
      "source": [
        "Data science Libraries\n",
        "- Pandas\n",
        "- Numpy\n",
        "- Matplotlib"
      ],
      "metadata": {
        "id": "Y_-6e3gl-K3j"
      }
    },
    {
      "cell_type": "markdown",
      "source": [
        "|  Tool   |\n",
        "|  ----  |\n",
        "| Tableau  |\n",
        "| Jupyter Notebook  |\n",
        "| Apache Spark |"
      ],
      "metadata": {
        "id": "6-j-2jED-cAC"
      }
    },
    {
      "cell_type": "markdown",
      "source": [
        "`(10 / 2) * 13 = 65`"
      ],
      "metadata": {
        "id": "Q_v-LaEh-0Qj"
      }
    },
    {
      "cell_type": "code",
      "source": [
        "print(1 + 2)\n",
        "print(3 * 2)"
      ],
      "metadata": {
        "colab": {
          "base_uri": "https://localhost:8080/"
        },
        "id": "Pa3kcfUi_Vvu",
        "outputId": "28307f09-2875-4643-ffdf-f1ed0247dc5a"
      },
      "execution_count": 2,
      "outputs": [
        {
          "output_type": "stream",
          "name": "stdout",
          "text": [
            "3\n",
            "6\n"
          ]
        }
      ]
    },
    {
      "cell_type": "code",
      "source": [
        "def minutes_to_hours(minutes):\n",
        "    hours = minutes / 60\n",
        "    return hours\n",
        "\n",
        "# Example usage:\n",
        "minutes = 120\n",
        "hours = minutes_to_hours(minutes)\n",
        "print(f\"{minutes} minutes is equal to {hours} hours.\")\n"
      ],
      "metadata": {
        "colab": {
          "base_uri": "https://localhost:8080/"
        },
        "id": "qqe95oKH_jG4",
        "outputId": "89d6cde4-eab6-48a0-9f50-51ad500ce0bb"
      },
      "execution_count": 3,
      "outputs": [
        {
          "output_type": "stream",
          "name": "stdout",
          "text": [
            "120 minutes is equal to 2.0 hours.\n"
          ]
        }
      ]
    }
  ]
}